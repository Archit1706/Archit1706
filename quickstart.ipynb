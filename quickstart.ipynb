{
  "cells": [
    {
      "cell_type": "markdown",
      "metadata": {
        "id": "G60gaa7t9PH9"
      },
      "source": [
        "# Pneuma: Quick Start\n",
        "\n",
        "In this notebook, we show how to use each of Pneuma's features, from registering a dataset to querying the index."
      ]
    },
    {
      "cell_type": "markdown",
      "metadata": {
        "id": "UG-sl7IK9PIB"
      },
      "source": [
        "## Offline Stage\n",
        "\n",
        "In the offline stage, we set up Pneuma, including initializing the database, registering dataset and metadata, generating summaries, and generating both vector and keyword index.\n",
        "\n",
        "To use pneuma, we import the class Pneuma from the pneuma module.\n",
        "- CUBLAS_WORKSPACE_CONFIG is set to a certain value (in this demo `:4096:8`) to enforce more deterministic behavior in cuBLAS operations.\n",
        "- CUDA_VISIBLE_DEVICES is used to select the GPU.\n",
        "- The out_path is used to determine where the dataset and indexes will be stored. If not set, it will be defaulted to ~/.local/share/Pneuma/out on Linux or /Documents/Pneuma/out on Windows."
      ]
    },
    {
      "cell_type": "markdown",
      "metadata": {
        "id": "8I1qUYgy9PIC"
      },
      "source": [
        "**NOTE**: In Colab, you will need to restart the runtime after installing the requirements."
      ]
    },
    {
      "cell_type": "code",
      "execution_count": null,
      "metadata": {
        "id": "dMCsbt5J9PID"
      },
      "outputs": [],
      "source": [
        "import json\n",
        "import os\n",
        "\n",
        "os.environ[\"CUBLAS_WORKSPACE_CONFIG\"] = \":4096:8\"\n",
        "os.environ[\"CUDA_VISIBLE_DEVICES\"] = \"0\"\n",
        "\n",
        "from pneuma import Pneuma"
      ]
    },
    {
      "cell_type": "markdown",
      "metadata": {
        "id": "9Y5NQjqY9PIE"
      },
      "source": [
        "We initialize the pneuma object with out_path and call the setup() function to initialize the database."
      ]
    },
    {
      "cell_type": "code",
      "execution_count": null,
      "metadata": {
        "id": "beoy3eHt9PIF"
      },
      "outputs": [],
      "source": [
        "out_path = \"out_demo\"\n",
        "pneuma = Pneuma(\n",
        "    out_path=out_path,\n",
        "    llm_path=\"Qwen/Qwen2.5-7B-Instruct\",\n",
        "    embed_path=\"BAAI/bge-base-en-v1.5\",\n",
        ")\n",
        "pneuma.setup()"
      ]
    },
    {
      "cell_type": "markdown",
      "metadata": {
        "id": "Hmbb8w759PIF"
      },
      "source": [
        "### Registration"
      ]
    },
    {
      "cell_type": "markdown",
      "metadata": {
        "id": "WG_2vvrh9PIG"
      },
      "source": [
        "To register a dataset, we call the add_tables function while pointing to a directory and specifying the data creator."
      ]
    },
    {
      "cell_type": "code",
      "execution_count": null,
      "metadata": {
        "id": "5lWdRe049PIG"
      },
      "outputs": [],
      "source": [
        "data_path = \"data_src/sample_data/csv\"\n",
        "response = pneuma.add_tables(path=data_path, creator=\"demo_user\")\n",
        "json.loads(response)"
      ]
    },
    {
      "cell_type": "markdown",
      "metadata": {
        "id": "UZyDl7uD9PIG"
      },
      "source": [
        "Then, we can summarize the tables, all of which are not yet summarized at this point. These summaries then represent the tables for the discovery process."
      ]
    },
    {
      "cell_type": "code",
      "execution_count": null,
      "metadata": {
        "id": "IDx2yFeE9PIH"
      },
      "outputs": [],
      "source": [
        "response = pneuma.summarize()\n",
        "json.loads(response)"
      ]
    },
    {
      "cell_type": "markdown",
      "metadata": {
        "id": "wFbaO5kc9PIH"
      },
      "source": [
        "Optionally, if context (metadata) is available, we can register it as well using the add_metadata function."
      ]
    },
    {
      "cell_type": "code",
      "execution_count": null,
      "metadata": {
        "id": "dHDbT8Ib9PIH"
      },
      "outputs": [],
      "source": [
        "metadata_path = \"data_src/sample_data/metadata.csv\"\n",
        "response = pneuma.add_metadata(metadata_path=metadata_path)\n",
        "json.loads(response)"
      ]
    },
    {
      "cell_type": "markdown",
      "metadata": {
        "id": "eTFDkcIJ9PII"
      },
      "source": [
        "### Index Generation\n",
        "To generate both vector and keyword index, we call the generate_index function while specifying a name for the index. By default, this function will index all registered tables."
      ]
    },
    {
      "cell_type": "code",
      "execution_count": null,
      "metadata": {
        "id": "36VO6nhN9PII"
      },
      "outputs": [],
      "source": [
        "response = pneuma.generate_index(index_name=\"demo_index\")\n",
        "json.loads(response)"
      ]
    },
    {
      "cell_type": "markdown",
      "metadata": {
        "id": "_rWKLMCD9PIJ"
      },
      "source": [
        "## Online Stage (Querying)\n",
        "To retrieve a ranked list of tables, we use the query_index function."
      ]
    },
    {
      "cell_type": "code",
      "execution_count": null,
      "metadata": {
        "id": "jkSTxw669PIJ"
      },
      "outputs": [],
      "source": [
        "queries = [\n",
        "    \"Which dataset contains climate issues?\",  # 5n77-2d6a.csv\n",
        "    \"If I could identify where the bus stops are in Chicago, that would be awesome!\"  # 5cq6-qygt.csv\n",
        "]\n",
        "\n",
        "response = pneuma.query_index(\n",
        "    index_name=\"demo_index\",\n",
        "    queries=queries,\n",
        "    k=1,\n",
        "    n=5,\n",
        "    alpha=0.5,\n",
        ")\n",
        "relevant_tables = json.dumps(json.loads(response), indent=4)\n",
        "print(relevant_tables)"
      ]
    }
  ],
  "metadata": {
    "kernelspec": {
      "display_name": "pneuma",
      "language": "python",
      "name": "python3"
    },
    "language_info": {
      "codemirror_mode": {
        "name": "ipython",
        "version": 3
      },
      "file_extension": ".py",
      "mimetype": "text/x-python",
      "name": "python",
      "nbconvert_exporter": "python",
      "pygments_lexer": "ipython3",
      "version": "3.12.9"
    },
    "colab": {
      "provenance": []
    }
  },
  "nbformat": 4,
  "nbformat_minor": 0
}